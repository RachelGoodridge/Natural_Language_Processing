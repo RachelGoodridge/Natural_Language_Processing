{
 "cells": [
  {
   "cell_type": "markdown",
   "id": "70162478",
   "metadata": {},
   "source": [
    "# Wine Recommender System"
   ]
  },
  {
   "cell_type": "markdown",
   "id": "49c2e406",
   "metadata": {},
   "source": [
    "# Summary\n",
    "Steps I've completed:\n",
    "- data collection\n",
    "- exploratory data analysis\n",
    "- text preprocessing\n",
    "    - removal of stop words\n",
    "    - stemming with SnowballStemmer\n",
    "    - document-term matrix (cv and tfidf)\n",
    "    - use of unigrams and bigrams\n",
    "- topic modeling\n",
    "    - LSA\n",
    "    - NMF\n",
    "    - LDA\n",
    "- content-based filtering\n",
    "\n",
    "Still in Progress:\n",
    "- topic tuning\n",
    "- making recommendations\n",
    "\n",
    "Next Steps:\n",
    "- LightFM for collaborative filtering\n",
    "- try using corEx from Fancy NLP lesson"
   ]
  },
  {
   "cell_type": "markdown",
   "id": "0ea7c100",
   "metadata": {},
   "source": [
    "# Import Data"
   ]
  },
  {
   "cell_type": "code",
   "execution_count": 1,
   "id": "c2415403",
   "metadata": {},
   "outputs": [],
   "source": [
    "# import packages\n",
    "import pandas as pd\n",
    "import numpy as np\n",
    "import seaborn as sns\n",
    "import matplotlib.pyplot as plt\n",
    "import re\n",
    "import string\n",
    "from nltk.stem import SnowballStemmer\n",
    "from sklearn.feature_extraction.text import CountVectorizer, TfidfVectorizer\n",
    "from sklearn.decomposition import TruncatedSVD, NMF\n",
    "from sklearn.metrics import pairwise_distances\n",
    "from gensim import corpora, matutils\n",
    "from gensim.corpora import Dictionary\n",
    "from gensim.models.coherencemodel import CoherenceModel\n",
    "from gensim.models.ldamodel import LdaModel"
   ]
  },
  {
   "cell_type": "code",
   "execution_count": 2,
   "id": "b38a343d",
   "metadata": {},
   "outputs": [],
   "source": [
    "# read in the data\n",
    "data = pd.read_csv(\"wine_data.csv\", index_col=0)"
   ]
  },
  {
   "cell_type": "code",
   "execution_count": 3,
   "id": "5692fc42",
   "metadata": {},
   "outputs": [],
   "source": [
    "# drop some rows and columns\n",
    "data.drop_duplicates(inplace=True)\n",
    "data.drop(columns=[\"region_2\", \"taster_twitter_handle\"], inplace=True)\n",
    "data.dropna(inplace=True)"
   ]
  },
  {
   "cell_type": "markdown",
   "id": "ff900f58",
   "metadata": {},
   "source": [
    "# Text Preprocessing"
   ]
  },
  {
   "cell_type": "code",
   "execution_count": 4,
   "id": "96d0ca01",
   "metadata": {},
   "outputs": [],
   "source": [
    "# define the corpus as all descriptions\n",
    "corpus = data.description.values"
   ]
  },
  {
   "cell_type": "code",
   "execution_count": 5,
   "id": "ea7dcf60",
   "metadata": {},
   "outputs": [],
   "source": [
    "# define English stop words and add a few wine-related ones\n",
    "with open(\"stop_words_english.txt\", \"r\") as f:\n",
    "    stopwords = [s.strip() for s in f.readlines()]\n",
    "    \n",
    "for i in [\"wine\", \"wines\", \"drink\", \"drinks\", \"drank\", \"drunk\", \"palate\", \"palates\", \"aroma\", \"aromas\",\n",
    "          \"flavor\", \"flavors\", \"note\", \"notes\", \"finish\"]:\n",
    "    stopwords.append(i)"
   ]
  },
  {
   "cell_type": "code",
   "execution_count": 6,
   "id": "ad322cd0",
   "metadata": {},
   "outputs": [],
   "source": [
    "# clean the corpus\n",
    "def prep(doc, stemmer=SnowballStemmer(\"english\"), stopwords=stopwords):\n",
    "    # remove numbers, captial letters and punctuation\n",
    "    doc = re.sub(\"\\w*\\d\\w*\", \" \", doc)\n",
    "    doc = re.sub(\"—\", \" \", doc)\n",
    "    doc = re.sub('[“”]', \" \", doc)\n",
    "    doc = re.sub(\"[%s]\" % re.escape(string.punctuation), \" \", doc.lower())\n",
    "    doc = doc.split()\n",
    "    \n",
    "    # use the stemmer on each word\n",
    "    final = [stemmer.stem(word) for word in doc if word not in stopwords]\n",
    "    return \" \".join(final)\n",
    "\n",
    "vfunc = np.vectorize(prep)\n",
    "corpus = vfunc(corpus)"
   ]
  },
  {
   "cell_type": "code",
   "execution_count": 7,
   "id": "e2101d2b",
   "metadata": {},
   "outputs": [],
   "source": [
    "# twice to catch all the lingering stop words\n",
    "corpus = vfunc(corpus)"
   ]
  },
  {
   "cell_type": "code",
   "execution_count": 8,
   "id": "b566bad3",
   "metadata": {},
   "outputs": [],
   "source": [
    "# create the document-term matrix\n",
    "tfidf = TfidfVectorizer(ngram_range=(1,2), min_df=(2/len(corpus)), max_df=0.4)\n",
    "x_tfidf = tfidf.fit_transform(corpus)\n",
    "doc_term_tfidf = pd.DataFrame(x_tfidf.toarray(), columns=tfidf.get_feature_names_out())"
   ]
  },
  {
   "cell_type": "markdown",
   "id": "65aa551e",
   "metadata": {},
   "source": [
    "# Topic Modeling"
   ]
  },
  {
   "cell_type": "code",
   "execution_count": 9,
   "id": "ea72f678",
   "metadata": {},
   "outputs": [],
   "source": [
    "# function to display the top n terms in each topic and their categories\n",
    "def display_topics(model, feature_names, no_top_words, topic_names=None): \n",
    "    for ix, topic in enumerate(model.components_):\n",
    "        if not topic_names or not topic_names[ix]:\n",
    "            print(\"Topic \", ix + 1)\n",
    "        else:\n",
    "            print(\"Topic: \", topic_names[ix])\n",
    "        print(\", \".join([feature_names[i] for i in topic.argsort()[:-no_top_words - 1:-1]]))\n",
    "        print(\"\")"
   ]
  },
  {
   "cell_type": "code",
   "execution_count": 10,
   "id": "a189c26a",
   "metadata": {},
   "outputs": [
    {
     "name": "stderr",
     "output_type": "stream",
     "text": [
      "/Applications/anaconda3/lib/python3.8/site-packages/sklearn/decomposition/_nmf.py:289: FutureWarning: The 'init' value, when 'init=None' and n_components is less than n_samples and n_features, will be changed from 'nndsvd' to 'nndsvda' in 1.1 (renaming of 0.26).\n",
      "  warnings.warn(\n"
     ]
    },
    {
     "name": "stdout",
     "output_type": "stream",
     "text": [
      "Topic:  Black fruit\n",
      "black, black cherri, cherri, tannin, pepper\n",
      "\n",
      "Topic:  Tree fruit\n",
      "appl, white, lemon, peach, pear\n",
      "\n",
      "Topic:  Varietal wine\n",
      "cabernet, cabernet sauvignon, sauvignon, merlot, blend\n",
      "\n",
      "Topic:  Full body\n",
      "age, rich, ripe, structur, wood\n",
      "\n",
      "Topic:  Red fruit\n",
      "fruiti, red, acid, crisp, soft\n",
      "\n",
      "Topic:  Vinification\n",
      "cherri, vineyard, nose, dri, bottl\n",
      "\n",
      "Topic:  Other\n",
      "berri, plum, feel, herbal, berri fruit\n",
      "\n",
      "Topic:  Woody\n",
      "oak, vanilla, toast, french, french oak\n",
      "\n",
      "Topic:  Medium body\n",
      "bodi, medium, medium bodi, textur, sweet\n",
      "\n"
     ]
    }
   ],
   "source": [
    "# fit the model and display the top terms for each topic\n",
    "nmf = NMF(9)\n",
    "nmf.fit(x_tfidf)\n",
    "display_topics(nmf, tfidf.get_feature_names_out(), 5, [\"Black fruit\", \"Tree fruit\", \"Varietal wine\", \"Full body\",\n",
    "                                                       \"Red fruit\", \"Vinification\", \"Other\", \"Woody\", \"Medium body\"])"
   ]
  },
  {
   "cell_type": "code",
   "execution_count": 11,
   "id": "30fb76a5",
   "metadata": {},
   "outputs": [],
   "source": [
    "# create the reduced dataframe\n",
    "doc_topic = nmf.transform(x_tfidf)"
   ]
  },
  {
   "cell_type": "markdown",
   "id": "e43ed0c4",
   "metadata": {},
   "source": [
    "# Recommender Systems"
   ]
  },
  {
   "cell_type": "code",
   "execution_count": 12,
   "id": "edf28708",
   "metadata": {},
   "outputs": [],
   "source": [
    "# find the wine closest to the indicated one\n",
    "def close_match(new_coords, wine_index, data):\n",
    "    dist = pairwise_distances(new_coords[wine_index].reshape(1,-1), new_coords)\n",
    "    closest = dist.argsort()[0][1]\n",
    "    print(\"Wine to Match\")\n",
    "    print(\"\")\n",
    "    print(\"Title:\")\n",
    "    print(data.title.values[wine_index])\n",
    "    print(\"\")\n",
    "    print(\"Description:\")\n",
    "    print(data.description.values[wine_index])\n",
    "    print(\"\")\n",
    "    print(\"\")\n",
    "    print(\"\")\n",
    "    print(\"Closest Match\")\n",
    "    print(\"\")\n",
    "    print(\"Title:\")\n",
    "    print(data.title.values[closest])\n",
    "    print(\"\")\n",
    "    print(\"Description:\")\n",
    "    print(data.description.values[closest])"
   ]
  },
  {
   "cell_type": "code",
   "execution_count": 13,
   "id": "99b1ae38",
   "metadata": {},
   "outputs": [
    {
     "name": "stdout",
     "output_type": "stream",
     "text": [
      "Wine to Match\n",
      "\n",
      "Title:\n",
      "Terre di Giurfo 2013 Belsito Frappato (Vittoria)\n",
      "\n",
      "Description:\n",
      "Here's a bright, informal red that opens with aromas of candied berry, white pepper and savory herb that carry over to the palate. It's balanced with fresh acidity and soft tannins.\n",
      "\n",
      "\n",
      "\n",
      "Closest Match\n",
      "\n",
      "Title:\n",
      "Aldegheri 2016 Tenuta Villa Cariola  (Bardolino)\n",
      "\n",
      "Description:\n",
      "Aromas of charcuterie, smoke and grilled herb lead the nose. On the simple palate, a note of white pepper accents a red-berry core. It's easy drinking, with fresh acidity and soft tannins.\n"
     ]
    }
   ],
   "source": [
    "close_match(doc_topic, 3, data)"
   ]
  }
 ],
 "metadata": {
  "kernelspec": {
   "display_name": "Python 3 (ipykernel)",
   "language": "python",
   "name": "python3"
  },
  "language_info": {
   "codemirror_mode": {
    "name": "ipython",
    "version": 3
   },
   "file_extension": ".py",
   "mimetype": "text/x-python",
   "name": "python",
   "nbconvert_exporter": "python",
   "pygments_lexer": "ipython3",
   "version": "3.8.8"
  }
 },
 "nbformat": 4,
 "nbformat_minor": 5
}
